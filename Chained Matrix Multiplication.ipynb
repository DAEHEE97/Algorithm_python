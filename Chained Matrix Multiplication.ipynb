{
 "cells": [
  {
   "cell_type": "markdown",
   "metadata": {},
   "source": [
    "# Chained Matrix Multiplication\n"
   ]
  },
  {
   "cell_type": "markdown",
   "metadata": {},
   "source": [
    "## 연속 행렬 곱셈"
   ]
  },
  {
   "cell_type": "markdown",
   "metadata": {},
   "source": [
    "- n 개의 연쇄 행렬 곱셈 : $𝐴1 × 𝐴2 × ⋯ × 𝐴𝑛$\n",
    "\n",
    "\n",
    "- 일반적으로 𝑖×𝑘 행렬 과 𝑘×𝑗 행렬을 곱하면 𝑖×𝑗 행렬, 이 때 원소 곱셈의 횟수 = $𝑖 * 𝑘 * 𝑗$\n",
    "\n",
    "\n",
    "- 행렬곱셈은 결합법칙이 성립 : $(𝐴𝑥 ×𝐴𝑦)×𝐴𝑧 =𝐴𝑥 ×(𝐴𝑦 ×𝐴𝑧)$\n",
    "\n",
    "\n",
    "- 이 때 행렬 곱셈의 순서에 따라서 각 원소의 곱셈 횟수가 다른데, **각 원소의 곱셈 횟수가 가장 작아지도록 하는 곱셈 순서가 최적의 순서를 찾는 문제**\n",
    "\n"
   ]
  },
  {
   "cell_type": "markdown",
   "metadata": {},
   "source": [
    "## 문제 정의"
   ]
  },
  {
   "cell_type": "markdown",
   "metadata": {},
   "source": [
    "\n",
    "\n",
    " n개의 연속  행렬곱셈 : $𝐴1 ×𝐴2 ×⋯×𝐴𝑛$\n",
    " \n",
    " \n",
    "• $𝐴𝑘−1$ 의 행의 개수 와 $𝐴𝑘$ 의 열의 개수가 같아야함\n",
    "\n",
    "\n",
    "\n",
    "• $𝑑𝑘$ 를 행렬 $𝐴𝑘$ 의 행의 원소 개수로 정함 $(1≤𝑘≤𝑛)$\n",
    "\n",
    "• $𝑑𝑘−1$ 은 행렬 $𝐴𝑘$ 의 열의 원소 개수, $𝐴𝑘−1$ 의 행의 원소 개수임\n",
    "\n",
    "• **$𝑑0$ 는 $𝐴1$ 의 열의 원소 개수**\n"
   ]
  },
  {
   "cell_type": "markdown",
   "metadata": {},
   "source": [
    "## 문제 해결 아이디어\n"
   ]
  },
  {
   "cell_type": "markdown",
   "metadata": {},
   "source": [
    "**1단계: 재귀 관계식**\n",
    "    \n",
    "- $𝑴$ : 연쇄행렬을 곱하는데 필요한 곱셈의 최소 회수 행렬\n",
    "\n",
    "- $𝑴[𝒊][𝒋]$ : $𝐴$ 에서 $𝐴$ 까지 행렬을 곱하는데 필요한 곱셈의 최소 회수 $𝑖𝑗$  $(1 ≤ 𝑖 ≤ 𝑗 ≤ 𝑛)$\n",
    "\n",
    "\n",
    "-  목표 :  **$𝐴i ⋯𝐴j$ 행렬을 $(𝐴i ⋯𝐴k )$ $(𝐴k+1 ⋯𝐴j)$ 로 분할하는 재귀관계식 찾기**\n",
    "\n",
    "\n",
    "분할정복 (Divide-and-Conquer)\n",
    "\n",
    "- **𝑛개의 행렬을 두개의 최적부분 행렬의 곱으로 분할**\n",
    "- 예를 들어, $𝐴1𝐴2𝐴3𝐴4𝐴5𝐴6$ 은 다음과 같이 분할 가능\n",
    "\n",
    "\n",
    "각 분할의 곱셈 횟수 :\n",
    "\n",
    "- **각 부분 행렬의 곱셈 횟수 + 두 행렬의 곱셈 횟수**\n",
    "\n",
    "- $𝑀[1][𝑘]+𝑀[𝑘+1][6]+𝑑0 𝑑𝑘 𝑑6$\n",
    "\n",
    "\n"
   ]
  },
  {
   "cell_type": "markdown",
   "metadata": {},
   "source": [
    "\n",
    "**2단계: Top down 상향식 계산**\n",
    "\n",
    "- 초기화 : $𝑀[𝑖][𝑖]=0$ (주대각선을0으로)\n",
    "\n",
    "\n",
    "- 최종목표 : $𝑀[1][𝑛]$\n",
    "\n",
    "\n",
    "- **Top down 상향식 계산 : 대각선1번, 대각선2번, ⋯ , 대각선 𝑛 − 1 번**"
   ]
  },
  {
   "cell_type": "markdown",
   "metadata": {},
   "source": [
    "## Src"
   ]
  },
  {
   "cell_type": "code",
   "execution_count": 3,
   "metadata": {},
   "outputs": [
    {
     "name": "stdout",
     "output_type": "stream",
     "text": [
      "M = \n",
      "[0, 120, 510, 600, 694, 816]\n",
      "[-1, 0, 360, 540, 624, 736]\n",
      "[-1, -1, 0, 1080, 1584, 1992]\n",
      "[-1, -1, -1, 0, 630, 1056]\n",
      "[-1, -1, -1, -1, 0, 336]\n",
      "[-1, -1, -1, -1, -1, 0]\n",
      "\n",
      "최소 곱셈 횟수 : 816 , 최적의 순서 : (A1((((A2A3)A4)A5)A6))"
     ]
    }
   ],
   "source": [
    "def minimum (M, d, i, j):\n",
    "    \n",
    "    minValue = INF\n",
    "    minK = 0\n",
    "    \n",
    "    for k in range(i, j):\n",
    "        \n",
    "        value = M[i][k] + M[k + 1][j]\n",
    "        value += d[i - 1] * d[k] * d[j]\n",
    "        \n",
    "        if (minValue > value):\n",
    "            minValue = value\n",
    "            minK = k\n",
    "            \n",
    "    return minValue, minK\n",
    "\n",
    "def minmult (d):\n",
    "    \n",
    "    n = len(d) - 1 # n은 행렬의 개수\n",
    "    \n",
    "    M = [[-1] * (n + 1) for _ in range(n + 1)]\n",
    "    P = [[-1] * (n + 1) for _ in range(n + 1)]\n",
    "    \n",
    "    # main diagonal 0 초기화\n",
    "    for i in range(1, n + 1): \n",
    "        M[i][i] = 0\n",
    "        \n",
    "    # diagonal 1 ~ n-1 까지 초기화\n",
    "    for diagonal in range(1, n):\n",
    "        \n",
    "        for i in range(1, n - diagonal + 1):\n",
    "            j = i + diagonal\n",
    "            M[i][j], P[i][j] = minimum(M, d, i, j)\n",
    "            \n",
    "    return M, P\n",
    "\n",
    "\n",
    "def order (P, i, j):\n",
    "    \n",
    "    if (i == j):\n",
    "        print('A%d'%(i), end='')\n",
    "        \n",
    "    else:\n",
    "        k = P[i][j]\n",
    "        print('(', end = '')\n",
    "        \n",
    "        order(P, i, k)\n",
    "        order(P, k + 1, j)\n",
    "        \n",
    "        print(')', end = '')\n",
    "\n",
    "\n",
    "# d0 는 A1의 열의 원소 개수(행)\n",
    "# d1 는 A2의 열의 원소 개수(행), A1의 행의 원소 개수(열)\n",
    "# 5 x 2 행렬, 2 x 12 행렬, 12 x 15 행렬, 15 x 6 행렬, 6 x 7 행렬, 7 x 8 행렬\n",
    "\n",
    "d = [5, 2, 12, 15, 6, 7, 8]\n",
    "\n",
    "INF = int(10e9)\n",
    "\n",
    "M, P = minmult(d)\n",
    "print('M = ')\n",
    "\n",
    "for i in range(1, len(M)):\n",
    "    print(M[i][1:])\n",
    "\n",
    "print()\n",
    "print(\"최소 곱셈 횟수 :\",M[1][len(d)-1], \",\", \"최적의 순서 : \", end = '')\n",
    "\n",
    "order(P, 1, len(d) - 1)"
   ]
  }
 ],
 "metadata": {
  "hide_input": false,
  "kernelspec": {
   "display_name": "Python 3",
   "language": "python",
   "name": "python3"
  },
  "language_info": {
   "codemirror_mode": {
    "name": "ipython",
    "version": 3
   },
   "file_extension": ".py",
   "mimetype": "text/x-python",
   "name": "python",
   "nbconvert_exporter": "python",
   "pygments_lexer": "ipython3",
   "version": "3.8.5"
  },
  "toc": {
   "base_numbering": 1,
   "nav_menu": {},
   "number_sections": true,
   "sideBar": true,
   "skip_h1_title": false,
   "title_cell": "Table of Contents",
   "title_sidebar": "Contents",
   "toc_cell": false,
   "toc_position": {},
   "toc_section_display": true,
   "toc_window_display": false
  }
 },
 "nbformat": 4,
 "nbformat_minor": 4
}
